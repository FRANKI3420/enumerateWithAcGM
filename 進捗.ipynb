{
 "cells": [
  {
   "cell_type": "markdown",
   "metadata": {},
   "source": [
    "#### 正準系の判定方法の追加1"
   ]
  },
  {
   "cell_type": "markdown",
   "metadata": {},
   "source": [
    "追加したコードフラグメントの辺ラベルが全て同じ辺ラベル（０）は除く\n",
    "→そのグラフは正準系である\n",
    "##### 例：辺ラベルが1と2の2種類の場合\n",
    "[1,1,1]  \n",
    "[2,2,2]  \n",
    "[2,2,2,2,2,2,2]  \n",
    "など  \n",
    "\n",
    "コードフラグメントを新たに追加するときに、辺ラベルが全て同じが計算しておく  \n",
    "final byte vLabel;  \n",
    "final byte[] eLabels;  \n",
    "final boolean isConnected;  \n",
    "<font color=\"red\">final boolean allElabelSame;</font>  \n",
    "\n",
    "allElabelSameを呼び出すだけで、正準判定が可能"
   ]
  },
  {
   "cell_type": "markdown",
   "metadata": {},
   "source": [
    "#### 正準系の判定方法の追加2"
   ]
  },
  {
   "cell_type": "markdown",
   "metadata": {},
   "source": [
    "過去のコードフラグメントが全てMaXbitであれば、\n",
    "新たに追加されたコードフラグメントがMaXbit  \n",
    "でないとき、正準系でない  \n",
    "[1, 1, 1, 1, 1, 1, 0]正  \n",
    "[1, 1, 1, 1, 1, 0, 1]非  \n",
    "\n",
    "実験結果  \n",
    "既存手法  \n",
    "|V|<=9 |Σ|=1 eLabelNum=1  \n",
    "実行時間：51355ms  \n",
    "実行時間：51.359035s  \n",
    "ans num: 273193  \n",
    "\n",
    "提案手法  \n",
    "|V|<=9 |Σ|=1 eLabelNum=1  \n",
    "実行時間：47466ms  \n",
    "実行時間：47.469609s  \n",
    "ans num: 273193  "
   ]
  },
  {
   "cell_type": "markdown",
   "metadata": {},
   "source": [
    "### 並列処理の実装"
   ]
  },
  {
   "cell_type": "markdown",
   "metadata": {},
   "source": [
    "tasks.add(CompletableFuture.supplyAsync(() -> {  \n",
    "　　　return enumarateWithAcGMParallel(executorService, childrenOfM1, nowFragments);  \n",
    "}, executorService).thenCompose(future -> future));  \n",
    "\n",
    "\n",
    "return CompletableFuture.allOf(tasks.toArray(new CompletableFuture[0]));"
   ]
  },
  {
   "cell_type": "markdown",
   "metadata": {},
   "source": [
    "1. tasks.add(...)\n",
    "    * List<CompletableFuture<T>> で、非同期タスクを管理  \n",
    "2. CompletableFuture.supplyAsync(() -> { ... }, executorService)  \n",
    "    - supplyAsync メソッドは非同期タスクを開始。非同期に CompletableFuture を返す  \n",
    "    - executorService はスレッドプールで、この処理が指定のスレッドプールで実行されることを指定  \n",
    "3. thenComposeAsync(future -> future)  \n",
    "    - thenComposeAsync メソッドは、1つの CompletableFuture が終了した後で新しい CompletableFuture を実行したい場合に使用  \n",
    "    - numarateWithAcGMParallel が CompletableFuture を返すため、thenCompose を用いることで、結果の非同期処理をさらに連結し、処理の完了を待機しながら次の処理に進むようにしている。\n",
    "4. CompletableFuture.allOf(...)  \n",
    "    - 複数の CompletableFuture の完了を待つためのメソッド  \n",
    "    - すべてのタスクが完了すると完了状態"
   ]
  },
  {
   "cell_type": "markdown",
   "metadata": {},
   "source": []
  }
 ],
 "metadata": {
  "language_info": {
   "name": "python"
  }
 },
 "nbformat": 4,
 "nbformat_minor": 2
}
